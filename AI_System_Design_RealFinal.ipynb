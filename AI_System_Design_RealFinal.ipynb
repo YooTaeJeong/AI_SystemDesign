{
  "nbformat": 4,
  "nbformat_minor": 0,
  "metadata": {
    "colab": {
      "name": "AI_System_Design_RealFinal.ipynb",
      "provenance": [],
      "authorship_tag": "ABX9TyPcu1ucYAoSmwU2vS3zzmhv",
      "include_colab_link": true
    },
    "kernelspec": {
      "name": "python3",
      "display_name": "Python 3"
    },
    "language_info": {
      "name": "python"
    }
  },
  "cells": [
    {
      "cell_type": "markdown",
      "metadata": {
        "id": "view-in-github",
        "colab_type": "text"
      },
      "source": [
        "<a href=\"https://colab.research.google.com/github/YooTaeJeong/AI_SystemDesign/blob/main/AI_System_Design_RealFinal.ipynb\" target=\"_parent\"><img src=\"https://colab.research.google.com/assets/colab-badge.svg\" alt=\"Open In Colab\"/></a>"
      ]
    },
    {
      "cell_type": "markdown",
      "metadata": {
        "id": "o5mfZtM1J7vY"
      },
      "source": [
        "# 데이터 로드 - 20171556 유태정"
      ]
    },
    {
      "cell_type": "code",
      "metadata": {
        "id": "ilJ5yZniJZqc"
      },
      "source": [
        "import numpy as np\n",
        "import pandas as pd\n",
        "from sklearn import datasets\n",
        "\n",
        "from sklearn import model_selection\n",
        "from sklearn import metrics\n",
        "\n",
        "dataset = datasets.load_wine()"
      ],
      "execution_count": 4,
      "outputs": []
    },
    {
      "cell_type": "markdown",
      "metadata": {
        "id": "9_vKjaj3J2Gj"
      },
      "source": [
        "# 데이터 전처리 시작 - 20171556 유태정"
      ]
    },
    {
      "cell_type": "code",
      "metadata": {
        "colab": {
          "base_uri": "https://localhost:8080/"
        },
        "id": "V60XRAldJmSH",
        "outputId": "fe97d019-be25-4a1c-9c52-c79cc4b6a523"
      },
      "source": [
        "from sklearn import datasets\n",
        "from sklearn.preprocessing import StandardScaler\n",
        "from sklearn.neural_network import MLPClassifier\n",
        "from sklearn.model_selection import train_test_split\n",
        "from sklearn.metrics import accuracy_score\n",
        "import numpy as np\n",
        "\n",
        "wine = datasets.load_wine()\n",
        "x_train, x_test, y_train, y_test = train_test_split(wine.data, wine.target, train_size = 0.6)\n",
        "\n",
        "sc = StandardScaler()\n",
        "sc.fit(x_train)"
      ],
      "execution_count": 5,
      "outputs": [
        {
          "output_type": "execute_result",
          "data": {
            "text/plain": [
              "StandardScaler(copy=True, with_mean=True, with_std=True)"
            ]
          },
          "metadata": {
            "tags": []
          },
          "execution_count": 5
        }
      ]
    },
    {
      "cell_type": "markdown",
      "metadata": {
        "id": "NTYWbaodKI_Z"
      },
      "source": [
        "#SVM 기법 -20171556 유태정\n",
        "# gamma = 0.1, C = 1일 때 정확도 : 98.61111111111111 %\n",
        "\n"
      ]
    },
    {
      "cell_type": "code",
      "metadata": {
        "colab": {
          "base_uri": "https://localhost:8080/"
        },
        "id": "UMJmrxvAKG29",
        "outputId": "c4929c3e-6aaf-40eb-a145-c0fc93506ab9"
      },
      "source": [
        "from sklearn import datasets\n",
        "from sklearn.preprocessing import StandardScaler\n",
        "from sklearn import svm\n",
        "from sklearn.model_selection import train_test_split\n",
        "from sklearn.metrics import accuracy_score\n",
        "import numpy as np\n",
        "\n",
        "wine = datasets.load_wine()\n",
        "x_train, x_test, y_train, y_test = train_test_split(wine.data, wine.target, train_size = 0.6)\n",
        "\n",
        "sc = StandardScaler()\n",
        "sc.fit(x_train)\n",
        "\n",
        "x_train_std = sc.transform(x_train)\n",
        "x_test_std = sc.transform(x_test)\n",
        "\n",
        "s=svm.SVC(gamma=0.1, C=1)\n",
        "s.fit(x_train_std, y_train)\n",
        "\n",
        "pre = s.predict(x_test_std)\n",
        "print(\"정확도 :\",accuracy_score(y_test,pre)*100,\"%\")"
      ],
      "execution_count": 6,
      "outputs": [
        {
          "output_type": "stream",
          "text": [
            "정확도 : 98.61111111111111 %\n"
          ],
          "name": "stdout"
        }
      ]
    },
    {
      "cell_type": "markdown",
      "metadata": {
        "id": "IHEYM-bsKtUP"
      },
      "source": [
        "# gamma = 0.01, C = 10일 때 정확도 : 95.83333333333334 %"
      ]
    },
    {
      "cell_type": "code",
      "metadata": {
        "colab": {
          "base_uri": "https://localhost:8080/"
        },
        "id": "-h_6DMAjKIBO",
        "outputId": "72aab69e-5738-4ff6-c215-b803ec8db28a"
      },
      "source": [
        "from sklearn import datasets\n",
        "from sklearn.preprocessing import StandardScaler\n",
        "from sklearn import svm\n",
        "from sklearn.model_selection import train_test_split\n",
        "from sklearn.metrics import accuracy_score\n",
        "import numpy as np\n",
        "\n",
        "wine = datasets.load_wine()\n",
        "x_train, x_test, y_train, y_test = train_test_split(wine.data, wine.target, train_size = 0.6)\n",
        "\n",
        "sc = StandardScaler()\n",
        "sc.fit(x_train)\n",
        "\n",
        "x_train_std = sc.transform(x_train)\n",
        "x_test_std = sc.transform(x_test)\n",
        "\n",
        "s=svm.SVC(gamma=0.01, C=10)\n",
        "s.fit(x_train_std, y_train)\n",
        "\n",
        "pre = s.predict(x_test_std)\n",
        "print(\"정확도 :\",accuracy_score(y_test,pre)*100,\"%\")"
      ],
      "execution_count": 8,
      "outputs": [
        {
          "output_type": "stream",
          "text": [
            "정확도 : 95.83333333333334 %\n"
          ],
          "name": "stdout"
        }
      ]
    },
    {
      "cell_type": "markdown",
      "metadata": {
        "id": "6u5kLxn0K_wW"
      },
      "source": [
        "# gamma = 0.001, C = 100일 때 정확도 : 97.22222222222221 %"
      ]
    },
    {
      "cell_type": "code",
      "metadata": {
        "colab": {
          "base_uri": "https://localhost:8080/"
        },
        "id": "3Uj5VsjYKnkp",
        "outputId": "bf279b30-8a89-4555-fafb-a430cc93dc8e"
      },
      "source": [
        "from sklearn import datasets\n",
        "from sklearn.preprocessing import StandardScaler\n",
        "from sklearn import svm\n",
        "from sklearn.model_selection import train_test_split\n",
        "from sklearn.metrics import accuracy_score\n",
        "import numpy as np\n",
        "\n",
        "wine = datasets.load_wine()\n",
        "x_train, x_test, y_train, y_test = train_test_split(wine.data, wine.target, train_size = 0.6)\n",
        "\n",
        "sc = StandardScaler()\n",
        "sc.fit(x_train)\n",
        "\n",
        "x_train_std = sc.transform(x_train)\n",
        "x_test_std = sc.transform(x_test)\n",
        "\n",
        "s=svm.SVC(gamma=0.001, C=100)\n",
        "s.fit(x_train_std, y_train)\n",
        "\n",
        "pre = s.predict(x_test_std)\n",
        "print(\"정확도 :\",accuracy_score(y_test,pre)*100,\"%\")"
      ],
      "execution_count": 11,
      "outputs": [
        {
          "output_type": "stream",
          "text": [
            "정확도 : 97.22222222222221 %\n"
          ],
          "name": "stdout"
        }
      ]
    },
    {
      "cell_type": "code",
      "metadata": {
        "id": "4vnMlB4xLD6K"
      },
      "source": [
        ""
      ],
      "execution_count": 10,
      "outputs": []
    }
  ]
}