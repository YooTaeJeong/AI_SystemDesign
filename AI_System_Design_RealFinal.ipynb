{
  "nbformat": 4,
  "nbformat_minor": 0,
  "metadata": {
    "colab": {
      "name": "AI_System_Design_RealFinal.ipynb",
      "provenance": [],
      "collapsed_sections": [],
      "authorship_tag": "ABX9TyNdIlFrqlvpIjkLG369V6Lm",
      "include_colab_link": true
    },
    "kernelspec": {
      "name": "python3",
      "display_name": "Python 3"
    },
    "language_info": {
      "name": "python"
    }
  },
  "cells": [
    {
      "cell_type": "markdown",
      "metadata": {
        "id": "view-in-github",
        "colab_type": "text"
      },
      "source": [
        "<a href=\"https://colab.research.google.com/github/YooTaeJeong/AI_SystemDesign/blob/main/AI_System_Design_RealFinal.ipynb\" target=\"_parent\"><img src=\"https://colab.research.google.com/assets/colab-badge.svg\" alt=\"Open In Colab\"/></a>"
      ]
    },
    {
      "cell_type": "markdown",
      "metadata": {
        "id": "o5mfZtM1J7vY"
      },
      "source": [
        "# 데이터 로드 - 20171556 유태정"
      ]
    },
    {
      "cell_type": "code",
      "metadata": {
        "id": "ilJ5yZniJZqc"
      },
      "source": [
        "import numpy as np\n",
        "import pandas as pd\n",
        "from sklearn import datasets\n",
        "\n",
        "from sklearn import model_selection\n",
        "from sklearn import metrics\n",
        "\n",
        "dataset = datasets.load_wine()"
      ],
      "execution_count": 4,
      "outputs": []
    },
    {
      "cell_type": "markdown",
      "metadata": {
        "id": "9_vKjaj3J2Gj"
      },
      "source": [
        "# 데이터 전처리 시작 - 20171556 유태정"
      ]
    },
    {
      "cell_type": "code",
      "metadata": {
        "colab": {
          "base_uri": "https://localhost:8080/"
        },
        "id": "V60XRAldJmSH",
        "outputId": "fe97d019-be25-4a1c-9c52-c79cc4b6a523"
      },
      "source": [
        "from sklearn import datasets\n",
        "from sklearn.preprocessing import StandardScaler\n",
        "from sklearn.neural_network import MLPClassifier\n",
        "from sklearn.model_selection import train_test_split\n",
        "from sklearn.metrics import accuracy_score\n",
        "import numpy as np\n",
        "\n",
        "wine = datasets.load_wine()\n",
        "x_train, x_test, y_train, y_test = train_test_split(wine.data, wine.target, train_size = 0.6)\n",
        "\n",
        "sc = StandardScaler()\n",
        "sc.fit(x_train)"
      ],
      "execution_count": 5,
      "outputs": [
        {
          "output_type": "execute_result",
          "data": {
            "text/plain": [
              "StandardScaler(copy=True, with_mean=True, with_std=True)"
            ]
          },
          "metadata": {
            "tags": []
          },
          "execution_count": 5
        }
      ]
    },
    {
      "cell_type": "markdown",
      "metadata": {
        "id": "NTYWbaodKI_Z"
      },
      "source": [
        "#SVM 기법 -20171556 유태정\n",
        "# gamma = 0.1, C = 1일 때 정확도 : 98.61111111111111 %\n",
        "\n"
      ]
    },
    {
      "cell_type": "code",
      "metadata": {
        "colab": {
          "base_uri": "https://localhost:8080/"
        },
        "id": "UMJmrxvAKG29",
        "outputId": "c4929c3e-6aaf-40eb-a145-c0fc93506ab9"
      },
      "source": [
        "from sklearn import datasets\n",
        "from sklearn.preprocessing import StandardScaler\n",
        "from sklearn import svm\n",
        "from sklearn.model_selection import train_test_split\n",
        "from sklearn.metrics import accuracy_score\n",
        "import numpy as np\n",
        "\n",
        "wine = datasets.load_wine()\n",
        "x_train, x_test, y_train, y_test = train_test_split(wine.data, wine.target, train_size = 0.6)\n",
        "\n",
        "sc = StandardScaler()\n",
        "sc.fit(x_train)\n",
        "\n",
        "x_train_std = sc.transform(x_train)\n",
        "x_test_std = sc.transform(x_test)\n",
        "\n",
        "s=svm.SVC(gamma=0.1, C=1)\n",
        "s.fit(x_train_std, y_train)\n",
        "\n",
        "pre = s.predict(x_test_std)\n",
        "print(\"정확도 :\",accuracy_score(y_test,pre)*100,\"%\")"
      ],
      "execution_count": 6,
      "outputs": [
        {
          "output_type": "stream",
          "text": [
            "정확도 : 98.61111111111111 %\n"
          ],
          "name": "stdout"
        }
      ]
    },
    {
      "cell_type": "markdown",
      "metadata": {
        "id": "IHEYM-bsKtUP"
      },
      "source": [
        "# gamma = 0.01, C = 10일 때 정확도 : 95.83333333333334 %"
      ]
    },
    {
      "cell_type": "code",
      "metadata": {
        "colab": {
          "base_uri": "https://localhost:8080/"
        },
        "id": "-h_6DMAjKIBO",
        "outputId": "72aab69e-5738-4ff6-c215-b803ec8db28a"
      },
      "source": [
        "from sklearn import datasets\n",
        "from sklearn.preprocessing import StandardScaler\n",
        "from sklearn import svm\n",
        "from sklearn.model_selection import train_test_split\n",
        "from sklearn.metrics import accuracy_score\n",
        "import numpy as np\n",
        "\n",
        "wine = datasets.load_wine()\n",
        "x_train, x_test, y_train, y_test = train_test_split(wine.data, wine.target, train_size = 0.6)\n",
        "\n",
        "sc = StandardScaler()\n",
        "sc.fit(x_train)\n",
        "\n",
        "x_train_std = sc.transform(x_train)\n",
        "x_test_std = sc.transform(x_test)\n",
        "\n",
        "s=svm.SVC(gamma=0.01, C=10)\n",
        "s.fit(x_train_std, y_train)\n",
        "\n",
        "pre = s.predict(x_test_std)\n",
        "print(\"정확도 :\",accuracy_score(y_test,pre)*100,\"%\")"
      ],
      "execution_count": 8,
      "outputs": [
        {
          "output_type": "stream",
          "text": [
            "정확도 : 95.83333333333334 %\n"
          ],
          "name": "stdout"
        }
      ]
    },
    {
      "cell_type": "markdown",
      "metadata": {
        "id": "6u5kLxn0K_wW"
      },
      "source": [
        "# gamma = 0.001, C = 100일 때 정확도:  95.83333333333334 %"
      ]
    },
    {
      "cell_type": "code",
      "metadata": {
        "colab": {
          "base_uri": "https://localhost:8080/"
        },
        "id": "3Uj5VsjYKnkp",
        "outputId": "bf279b30-8a89-4555-fafb-a430cc93dc8e"
      },
      "source": [
        "from sklearn import datasets\n",
        "from sklearn.preprocessing import StandardScaler\n",
        "from sklearn import svm\n",
        "from sklearn.model_selection import train_test_split\n",
        "from sklearn.metrics import accuracy_score\n",
        "import numpy as np\n",
        "\n",
        "wine = datasets.load_wine()\n",
        "x_train, x_test, y_train, y_test = train_test_split(wine.data, wine.target, train_size = 0.6)\n",
        "\n",
        "sc = StandardScaler()\n",
        "sc.fit(x_train)\n",
        "\n",
        "x_train_std = sc.transform(x_train)\n",
        "x_test_std = sc.transform(x_test)\n",
        "\n",
        "s=svm.SVC(gamma=0.001, C=100)\n",
        "s.fit(x_train_std, y_train)\n",
        "\n",
        "pre = s.predict(x_test_std)\n",
        "print(\"정확도 :\",accuracy_score(y_test,pre)*100,\"%\")"
      ],
      "execution_count": 11,
      "outputs": [
        {
          "output_type": "stream",
          "text": [
            "정확도 : 97.22222222222221 %\n"
          ],
          "name": "stdout"
        }
      ]
    },
    {
      "cell_type": "markdown",
      "metadata": {
        "id": "tzvMHraJNHbf"
      },
      "source": [
        "# Deep MLP 기법 -20171556 유태정"
      ]
    },
    {
      "cell_type": "code",
      "metadata": {
        "colab": {
          "base_uri": "https://localhost:8080/",
          "height": 983
        },
        "id": "4vnMlB4xLD6K",
        "outputId": "81260e9f-5b0a-40ce-b18f-6ed2ac37600a"
      },
      "source": [
        "import matplotlib.pyplot as plt\n",
        "import numpy as np\n",
        "from sklearn import datasets\n",
        "\n",
        "wine = datasets.load_wine()\n",
        "x_data = wine.data\n",
        "y_data = wine.target\n",
        "\n",
        "nc = x_data.shape\n",
        "\n",
        "from keras import optimizers\n",
        "from tensorflow.keras.layers import Dense\n",
        "from tensorflow.keras.optimizers import Adam\n",
        "from tensorflow.keras.models import Sequential\n",
        "\n",
        "x_train = x_data[:500,:]\n",
        "y_train = y_data[:500]\n",
        "\n",
        "mlp = Sequential()\n",
        "mlp.add(Dense(8, activation = 'relu', input_shape = nc,bias_initializer = 'zeros'))\n",
        "mlp.add(Dense(4, activation = 'relu',bias_initializer = 'zeros'))\n",
        "mlp.add(Dense(2, activation = 'relu',bias_initializer = 'zeros'))\n",
        "mlp.add(Dense(1))\n",
        "\n",
        "mlp.compile(loss = 'mse', optimizer = 'adam')\n",
        "mlp.summary()\n",
        "\n",
        "H = mlp.fit(x_train, y_train, batch_size = 10, epochs =10)\n",
        "plt.figure()\n",
        "plt.title('loss')\n",
        "plt.plot(H.history['loss'])"
      ],
      "execution_count": 76,
      "outputs": [
        {
          "output_type": "stream",
          "text": [
            "Model: \"sequential_8\"\n",
            "_________________________________________________________________\n",
            "Layer (type)                 Output Shape              Param #   \n",
            "=================================================================\n",
            "dense_32 (Dense)             (None, 178, 8)            112       \n",
            "_________________________________________________________________\n",
            "dense_33 (Dense)             (None, 178, 4)            36        \n",
            "_________________________________________________________________\n",
            "dense_34 (Dense)             (None, 178, 2)            10        \n",
            "_________________________________________________________________\n",
            "dense_35 (Dense)             (None, 178, 1)            3         \n",
            "=================================================================\n",
            "Total params: 161\n",
            "Trainable params: 161\n",
            "Non-trainable params: 0\n",
            "_________________________________________________________________\n",
            "Epoch 1/10\n",
            "WARNING:tensorflow:Model was constructed with shape (None, 178, 13) for input KerasTensor(type_spec=TensorSpec(shape=(None, 178, 13), dtype=tf.float32, name='dense_32_input'), name='dense_32_input', description=\"created by layer 'dense_32_input'\"), but it was called on an input with incompatible shape (None, 13).\n",
            "WARNING:tensorflow:Model was constructed with shape (None, 178, 13) for input KerasTensor(type_spec=TensorSpec(shape=(None, 178, 13), dtype=tf.float32, name='dense_32_input'), name='dense_32_input', description=\"created by layer 'dense_32_input'\"), but it was called on an input with incompatible shape (None, 13).\n",
            "18/18 [==============================] - 0s 1ms/step - loss: 1002.2791\n",
            "Epoch 2/10\n",
            "18/18 [==============================] - 0s 2ms/step - loss: 175.9480\n",
            "Epoch 3/10\n",
            "18/18 [==============================] - 0s 2ms/step - loss: 17.1463\n",
            "Epoch 4/10\n",
            "18/18 [==============================] - 0s 1ms/step - loss: 3.0885\n",
            "Epoch 5/10\n",
            "18/18 [==============================] - 0s 2ms/step - loss: 2.0038\n",
            "Epoch 6/10\n",
            "18/18 [==============================] - 0s 2ms/step - loss: 1.7803\n",
            "Epoch 7/10\n",
            "18/18 [==============================] - 0s 2ms/step - loss: 1.6441\n",
            "Epoch 8/10\n",
            "18/18 [==============================] - 0s 2ms/step - loss: 1.5572\n",
            "Epoch 9/10\n",
            "18/18 [==============================] - 0s 2ms/step - loss: 1.4942\n",
            "Epoch 10/10\n",
            "18/18 [==============================] - 0s 2ms/step - loss: 1.4469\n"
          ],
          "name": "stdout"
        },
        {
          "output_type": "execute_result",
          "data": {
            "text/plain": [
              "[<matplotlib.lines.Line2D at 0x7f0ee9cbfd50>]"
            ]
          },
          "metadata": {
            "tags": []
          },
          "execution_count": 76
        },
        {
          "output_type": "display_data",
          "data": {
            "image/png": "[encoded data removed]",
            "text/plain": [
              "<Figure size 432x288 with 1 Axes>"
            ]
          },
          "metadata": {
            "tags": [],
            "needs_background": "light"
          }
        }
      ]
    },
    {
      "cell_type": "code",
      "metadata": {
        "colab": {
          "base_uri": "https://localhost:8080/",
          "height": 1000
        },
        "id": "4Isz2ESSjmyU",
        "outputId": "39e29f27-55d9-4d83-e871-be7ea114d3b9"
      },
      "source": [
        "import matplotlib.pyplot as plt\n",
        "import numpy as np\n",
        "from sklearn import datasets\n",
        "\n",
        "wine = datasets.load_wine()\n",
        "x_data = wine.data\n",
        "y_data = wine.target\n",
        "\n",
        "nc = x_data.shape\n",
        "\n",
        "from keras import optimizers\n",
        "from tensorflow.keras.layers import Dense\n",
        "from tensorflow.keras.optimizers import Adam\n",
        "from tensorflow.keras.models import Sequential\n",
        "\n",
        "x_train = x_data[:500,:]\n",
        "y_train = y_data[:500]\n",
        "\n",
        "mlp = Sequential()\n",
        "mlp.add(Dense(8, activation = 'relu', input_shape = nc,bias_initializer = 'zeros'))\n",
        "mlp.add(Dense(4, activation = 'relu',bias_initializer = 'zeros'))\n",
        "mlp.add(Dense(2, activation = 'relu',bias_initializer = 'zeros'))\n",
        "mlp.add(Dense(1))\n",
        "\n",
        "mlp.compile(loss = 'mse', optimizer = 'adam')\n",
        "mlp.summary()\n",
        "\n",
        "H = mlp.fit(x_train, y_train, batch_size = 20, epochs =50)\n",
        "plt.figure()\n",
        "plt.title('loss')\n",
        "plt.plot(H.history['loss'])"
      ],
      "execution_count": 77,
      "outputs": [
        {
          "output_type": "stream",
          "text": [
            "Model: \"sequential_9\"\n",
            "_________________________________________________________________\n",
            "Layer (type)                 Output Shape              Param #   \n",
            "=================================================================\n",
            "dense_36 (Dense)             (None, 178, 8)            112       \n",
            "_________________________________________________________________\n",
            "dense_37 (Dense)             (None, 178, 4)            36        \n",
            "_________________________________________________________________\n",
            "dense_38 (Dense)             (None, 178, 2)            10        \n",
            "_________________________________________________________________\n",
            "dense_39 (Dense)             (None, 178, 1)            3         \n",
            "=================================================================\n",
            "Total params: 161\n",
            "Trainable params: 161\n",
            "Non-trainable params: 0\n",
            "_________________________________________________________________\n",
            "Epoch 1/50\n",
            "WARNING:tensorflow:Model was constructed with shape (None, 178, 13) for input KerasTensor(type_spec=TensorSpec(shape=(None, 178, 13), dtype=tf.float32, name='dense_36_input'), name='dense_36_input', description=\"created by layer 'dense_36_input'\"), but it was called on an input with incompatible shape (None, 13).\n",
            "WARNING:tensorflow:Model was constructed with shape (None, 178, 13) for input KerasTensor(type_spec=TensorSpec(shape=(None, 178, 13), dtype=tf.float32, name='dense_36_input'), name='dense_36_input', description=\"created by layer 'dense_36_input'\"), but it was called on an input with incompatible shape (None, 13).\n",
            "9/9 [==============================] - 0s 2ms/step - loss: 24395.3457\n",
            "Epoch 2/50\n",
            "9/9 [==============================] - 0s 2ms/step - loss: 17555.0762\n",
            "Epoch 3/50\n",
            "9/9 [==============================] - 0s 2ms/step - loss: 11783.8213\n",
            "Epoch 4/50\n",
            "9/9 [==============================] - 0s 2ms/step - loss: 7787.9956\n",
            "Epoch 5/50\n",
            "9/9 [==============================] - 0s 3ms/step - loss: 4877.3779\n",
            "Epoch 6/50\n",
            "9/9 [==============================] - 0s 2ms/step - loss: 2884.4829\n",
            "Epoch 7/50\n",
            "9/9 [==============================] - 0s 2ms/step - loss: 1673.7926\n",
            "Epoch 8/50\n",
            "9/9 [==============================] - 0s 2ms/step - loss: 1189.4945\n",
            "Epoch 9/50\n",
            "9/9 [==============================] - 0s 2ms/step - loss: 922.6949\n",
            "Epoch 10/50\n",
            "9/9 [==============================] - 0s 2ms/step - loss: 714.6002\n",
            "Epoch 11/50\n",
            "9/9 [==============================] - 0s 2ms/step - loss: 549.4021\n",
            "Epoch 12/50\n",
            "9/9 [==============================] - 0s 2ms/step - loss: 420.1264\n",
            "Epoch 13/50\n",
            "9/9 [==============================] - 0s 2ms/step - loss: 324.5399\n",
            "Epoch 14/50\n",
            "9/9 [==============================] - 0s 3ms/step - loss: 247.9169\n",
            "Epoch 15/50\n",
            "9/9 [==============================] - 0s 3ms/step - loss: 192.5728\n",
            "Epoch 16/50\n",
            "9/9 [==============================] - 0s 2ms/step - loss: 149.8133\n",
            "Epoch 17/50\n",
            "9/9 [==============================] - 0s 3ms/step - loss: 116.4387\n",
            "Epoch 18/50\n",
            "9/9 [==============================] - 0s 3ms/step - loss: 92.0830\n",
            "Epoch 19/50\n",
            "9/9 [==============================] - 0s 3ms/step - loss: 74.3651\n",
            "Epoch 20/50\n",
            "9/9 [==============================] - 0s 3ms/step - loss: 60.2203\n",
            "Epoch 21/50\n",
            "9/9 [==============================] - 0s 3ms/step - loss: 49.6852\n",
            "Epoch 22/50\n",
            "9/9 [==============================] - 0s 2ms/step - loss: 41.3645\n",
            "Epoch 23/50\n",
            "9/9 [==============================] - 0s 2ms/step - loss: 35.3017\n",
            "Epoch 24/50\n",
            "9/9 [==============================] - 0s 2ms/step - loss: 30.3143\n",
            "Epoch 25/50\n",
            "9/9 [==============================] - 0s 2ms/step - loss: 26.5670\n",
            "Epoch 26/50\n",
            "9/9 [==============================] - 0s 2ms/step - loss: 23.5700\n",
            "Epoch 27/50\n",
            "9/9 [==============================] - 0s 2ms/step - loss: 21.2259\n",
            "Epoch 28/50\n",
            "9/9 [==============================] - 0s 2ms/step - loss: 19.2033\n",
            "Epoch 29/50\n",
            "9/9 [==============================] - 0s 3ms/step - loss: 17.6876\n",
            "Epoch 30/50\n",
            "9/9 [==============================] - 0s 2ms/step - loss: 16.3056\n",
            "Epoch 31/50\n",
            "9/9 [==============================] - 0s 3ms/step - loss: 15.1531\n",
            "Epoch 32/50\n",
            "9/9 [==============================] - 0s 3ms/step - loss: 14.1487\n",
            "Epoch 33/50\n",
            "9/9 [==============================] - 0s 2ms/step - loss: 13.2236\n",
            "Epoch 34/50\n",
            "9/9 [==============================] - 0s 2ms/step - loss: 12.3931\n",
            "Epoch 35/50\n",
            "9/9 [==============================] - 0s 3ms/step - loss: 11.7102\n",
            "Epoch 36/50\n",
            "9/9 [==============================] - 0s 3ms/step - loss: 11.0226\n",
            "Epoch 37/50\n",
            "9/9 [==============================] - 0s 3ms/step - loss: 10.4336\n",
            "Epoch 38/50\n",
            "9/9 [==============================] - 0s 2ms/step - loss: 9.8495\n",
            "Epoch 39/50\n",
            "9/9 [==============================] - 0s 3ms/step - loss: 9.3914\n",
            "Epoch 40/50\n",
            "9/9 [==============================] - 0s 3ms/step - loss: 8.8977\n",
            "Epoch 41/50\n",
            "9/9 [==============================] - 0s 3ms/step - loss: 8.4512\n",
            "Epoch 42/50\n",
            "9/9 [==============================] - 0s 3ms/step - loss: 8.0975\n",
            "Epoch 43/50\n",
            "9/9 [==============================] - 0s 3ms/step - loss: 7.7039\n",
            "Epoch 44/50\n",
            "9/9 [==============================] - 0s 2ms/step - loss: 7.3109\n",
            "Epoch 45/50\n",
            "9/9 [==============================] - 0s 2ms/step - loss: 6.9786\n",
            "Epoch 46/50\n",
            "9/9 [==============================] - 0s 3ms/step - loss: 6.6966\n",
            "Epoch 47/50\n",
            "9/9 [==============================] - 0s 2ms/step - loss: 6.4013\n",
            "Epoch 48/50\n",
            "9/9 [==============================] - 0s 2ms/step - loss: 6.1235\n",
            "Epoch 49/50\n",
            "9/9 [==============================] - 0s 2ms/step - loss: 5.8697\n",
            "Epoch 50/50\n",
            "9/9 [==============================] - 0s 2ms/step - loss: 5.6403\n"
          ],
          "name": "stdout"
        },
        {
          "output_type": "execute_result",
          "data": {
            "text/plain": [
              "[<matplotlib.lines.Line2D at 0x7f0eeb03aa50>]"
            ]
          },
          "metadata": {
            "tags": []
          },
          "execution_count": 77
        },
        {
          "output_type": "display_data",
          "data": {
            "image/png": "[encoded data removed]",
            "text/plain": [
              "<Figure size 432x288 with 1 Axes>"
            ]
          },
          "metadata": {
            "tags": [],
            "needs_background": "light"
          }
        }
      ]
    },
    {
      "cell_type": "markdown",
      "metadata": {
        "id": "RHHG90KYSHPJ"
      },
      "source": [
        "# Perceptron 기법 -20171556 유태정"
      ]
    },
    {
      "cell_type": "markdown",
      "metadata": {
        "id": "DQUIh9M-Vgfp"
      },
      "source": [
        "# max_iter = 100, eta0 = 0.01 일 때 정확도 100%"
      ]
    },
    {
      "cell_type": "code",
      "metadata": {
        "colab": {
          "base_uri": "https://localhost:8080/"
        },
        "id": "9kSU7vLoQwbg",
        "outputId": "fc384dcb-6e03-464c-b371-6467a4f093a8"
      },
      "source": [
        "from sklearn import datasets\n",
        "from sklearn.preprocessing import StandardScaler\n",
        "from sklearn.linear_model import Perceptron\n",
        "from sklearn.model_selection import train_test_split\n",
        "from sklearn.metrics import accuracy_score\n",
        "import numpy as np\n",
        "\n",
        "wine = datasets.load_wine()\n",
        "x_train, x_test, y_train, y_test = train_test_split(wine.data, wine.target, train_size = 0.6)\n",
        "\n",
        "sc = StandardScaler()\n",
        "sc.fit(x_train)\n",
        "\n",
        "x_train_std = sc.transform(x_train)\n",
        "x_test_std = sc.transform(x_test)\n",
        "\n",
        "p=Perceptron(max_iter=100, eta0=0.01)\n",
        "p.fit(x_train_std, y_train)\n",
        "\n",
        "pre = p.predict(x_test_std)\n",
        "print(\"정확도 :\" ,accuracy_score(y_test,pre)*100,\"%\")"
      ],
      "execution_count": 65,
      "outputs": [
        {
          "output_type": "stream",
          "text": [
            "정확도 : 100.0 %\n"
          ],
          "name": "stdout"
        }
      ]
    },
    {
      "cell_type": "markdown",
      "metadata": {
        "id": "xTmGh8MQX6BY"
      },
      "source": [
        "# max_iter = 1000, eta0 = 0.001 일 때 정확도 97.22%"
      ]
    },
    {
      "cell_type": "code",
      "metadata": {
        "colab": {
          "base_uri": "https://localhost:8080/"
        },
        "id": "pu2ptpUrSGYO",
        "outputId": "06d553d5-451c-4f84-8f29-de48223285a0"
      },
      "source": [
        "from sklearn import datasets\n",
        "from sklearn.preprocessing import StandardScaler\n",
        "from sklearn.linear_model import Perceptron\n",
        "from sklearn.model_selection import train_test_split\n",
        "from sklearn.metrics import accuracy_score\n",
        "import numpy as np\n",
        "\n",
        "wine = datasets.load_wine()\n",
        "x_train, x_test, y_train, y_test = train_test_split(wine.data, wine.target, train_size = 0.6)\n",
        "\n",
        "sc = StandardScaler()\n",
        "sc.fit(x_train)\n",
        "\n",
        "x_train_std = sc.transform(x_train)\n",
        "x_test_std = sc.transform(x_test)\n",
        "\n",
        "p=Perceptron(max_iter=1000, eta0=0.001)\n",
        "p.fit(x_train_std, y_train)\n",
        "\n",
        "pre = p.predict(x_test_std)\n",
        "print(\"정확도 :\" ,accuracy_score(y_test,pre)*100,\"%\")"
      ],
      "execution_count": 66,
      "outputs": [
        {
          "output_type": "stream",
          "text": [
            "정확도 : 97.22222222222221 %\n"
          ],
          "name": "stdout"
        }
      ]
    },
    {
      "cell_type": "markdown",
      "metadata": {
        "id": "aMTiLOJ_e-T7"
      },
      "source": [
        "# max_iter = 10000, eta0 = 0.0001 일 때 정확도 95.83%"
      ]
    },
    {
      "cell_type": "code",
      "metadata": {
        "colab": {
          "base_uri": "https://localhost:8080/"
        },
        "id": "2iBVkhgAX9iM",
        "outputId": "66e7c9e2-bcf4-432b-d82f-eadb6391354d"
      },
      "source": [
        "from sklearn import datasets\n",
        "from sklearn.preprocessing import StandardScaler\n",
        "from sklearn.linear_model import Perceptron\n",
        "from sklearn.model_selection import train_test_split\n",
        "from sklearn.metrics import accuracy_score\n",
        "import numpy as np\n",
        "\n",
        "wine = datasets.load_wine()\n",
        "x_train, x_test, y_train, y_test = train_test_split(wine.data, wine.target, train_size = 0.6)\n",
        "\n",
        "sc = StandardScaler()\n",
        "sc.fit(x_train)\n",
        "\n",
        "x_train_std = sc.transform(x_train)\n",
        "x_test_std = sc.transform(x_test)\n",
        "\n",
        "p=Perceptron(max_iter=10000, eta0=0.0001)\n",
        "p.fit(x_train_std, y_train)\n",
        "\n",
        "pre = p.predict(x_test_std)\n",
        "print(\"정확도 :\" ,accuracy_score(y_test,pre)*100,\"%\")"
      ],
      "execution_count": 67,
      "outputs": [
        {
          "output_type": "stream",
          "text": [
            "정확도 : 95.83333333333334 %\n"
          ],
          "name": "stdout"
        }
      ]
    },
    {
      "cell_type": "markdown",
      "metadata": {
        "id": "Tqg1oLHxgzKp"
      },
      "source": [
        "#기법비교"
      ]
    },
    {
      "cell_type": "code",
      "metadata": {
        "id": "pEOFrGWsYef4"
      },
      "source": [
        "#SVM -> gamma 값과 C 값에 따라서 정확도가 변동\n",
        "#Perceptron -> 비교적 높은 정확률을 보여주지만, 하이퍼파라미터를 변경하여도 크게 값이 변동이 없음\n",
        "#Deep MLP -> 와인 퀄리티를 파악하는데에는 추천하지 않음"
      ],
      "execution_count": null,
      "outputs": []
    },
    {
      "cell_type": "markdown",
      "metadata": {
        "id": "MaK7kzFolW-K"
      },
      "source": [
        "#Version 2021-06-10 23:13 Iris Data Subject\n",
        "#Version 2021-06-11 22:13 Change Subject Iris -> MNIST\n",
        "#Version 2021-06-12 04:13 FInish MNIST\n",
        "#Version 2021-06-12 09:13 Change Subject MNIST -> Wine Quality\n",
        "#Version 2021-06-12 23:17 Final Edit"
      ]
    }
  ]
}